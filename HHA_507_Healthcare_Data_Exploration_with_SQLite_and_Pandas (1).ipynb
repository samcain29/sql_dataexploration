{
  "nbformat": 4,
  "nbformat_minor": 0,
  "metadata": {
    "colab": {
      "provenance": []
    },
    "kernelspec": {
      "name": "python3",
      "display_name": "Python 3"
    },
    "language_info": {
      "name": "python"
    }
  },
  "cells": [
    {
      "cell_type": "code",
      "source": [
        "import os\n",
        "os.listdir('/content')"
      ],
      "metadata": {
        "colab": {
          "base_uri": "https://localhost:8080/"
        },
        "id": "7_0615jd0XOw",
        "outputId": "a0572e25-71e7-4d4d-f671-2c18efe7f05a"
      },
      "execution_count": 48,
      "outputs": [
        {
          "output_type": "execute_result",
          "data": {
            "text/plain": [
              "['.config',\n",
              " 'my_database,db',\n",
              " 'alcoholrelatedemergencyroomencounters.csv',\n",
              " 'sample_data']"
            ]
          },
          "metadata": {},
          "execution_count": 48
        }
      ]
    },
    {
      "cell_type": "code",
      "source": [
        "import sqlite3\n",
        "import pandas as pd"
      ],
      "metadata": {
        "id": "PIyAPDTF0b-G"
      },
      "execution_count": 49,
      "outputs": []
    },
    {
      "cell_type": "code",
      "source": [
        "df = pd.read_csv('/content/alcoholrelatedemergencyroomencounters.csv')"
      ],
      "metadata": {
        "id": "HEDMUAJm0eQr"
      },
      "execution_count": 50,
      "outputs": []
    },
    {
      "cell_type": "code",
      "source": [
        "df.head()"
      ],
      "metadata": {
        "colab": {
          "base_uri": "https://localhost:8080/",
          "height": 379
        },
        "id": "ElExKNI90iq7",
        "outputId": "584c3c62-e75e-4695-9fca-f951affb8f4b"
      },
      "execution_count": 51,
      "outputs": [
        {
          "output_type": "execute_result",
          "data": {
            "text/plain": [
              "   Year  Geography              Category     VisitType Dem_Category  \\\n",
              "0  2020  Statewide  All Diagnosis Groups  ED Admission        Total   \n",
              "1  2020  Statewide  All Diagnosis Groups  ED Admission        Total   \n",
              "2  2020  Statewide  All Diagnosis Groups      ED Visit        Total   \n",
              "3  2020  Statewide  All Diagnosis Groups      ED Visit        Total   \n",
              "4  2020  Statewide  All Diagnosis Groups  ED Admission          Sex   \n",
              "\n",
              "     Dem_Cat_desc          Dxgroup    Count     Total  Percent  \n",
              "0  All Encounters  Alcohol Related   240180   1851863     13.0  \n",
              "1  All Encounters       All Others  1611683   1851863     87.0  \n",
              "2  All Encounters  Alcohol Related   363285  10023851      3.6  \n",
              "3  All Encounters       All Others  9660566  10023851     96.4  \n",
              "4          Female  Alcohol Related    85793    892625      9.6  "
            ],
            "text/html": [
              "\n",
              "  <div id=\"df-3f5daa6a-f4cb-41a9-8804-3cc60ac1738b\" class=\"colab-df-container\">\n",
              "    <div>\n",
              "<style scoped>\n",
              "    .dataframe tbody tr th:only-of-type {\n",
              "        vertical-align: middle;\n",
              "    }\n",
              "\n",
              "    .dataframe tbody tr th {\n",
              "        vertical-align: top;\n",
              "    }\n",
              "\n",
              "    .dataframe thead th {\n",
              "        text-align: right;\n",
              "    }\n",
              "</style>\n",
              "<table border=\"1\" class=\"dataframe\">\n",
              "  <thead>\n",
              "    <tr style=\"text-align: right;\">\n",
              "      <th></th>\n",
              "      <th>Year</th>\n",
              "      <th>Geography</th>\n",
              "      <th>Category</th>\n",
              "      <th>VisitType</th>\n",
              "      <th>Dem_Category</th>\n",
              "      <th>Dem_Cat_desc</th>\n",
              "      <th>Dxgroup</th>\n",
              "      <th>Count</th>\n",
              "      <th>Total</th>\n",
              "      <th>Percent</th>\n",
              "    </tr>\n",
              "  </thead>\n",
              "  <tbody>\n",
              "    <tr>\n",
              "      <th>0</th>\n",
              "      <td>2020</td>\n",
              "      <td>Statewide</td>\n",
              "      <td>All Diagnosis Groups</td>\n",
              "      <td>ED Admission</td>\n",
              "      <td>Total</td>\n",
              "      <td>All Encounters</td>\n",
              "      <td>Alcohol Related</td>\n",
              "      <td>240180</td>\n",
              "      <td>1851863</td>\n",
              "      <td>13.0</td>\n",
              "    </tr>\n",
              "    <tr>\n",
              "      <th>1</th>\n",
              "      <td>2020</td>\n",
              "      <td>Statewide</td>\n",
              "      <td>All Diagnosis Groups</td>\n",
              "      <td>ED Admission</td>\n",
              "      <td>Total</td>\n",
              "      <td>All Encounters</td>\n",
              "      <td>All Others</td>\n",
              "      <td>1611683</td>\n",
              "      <td>1851863</td>\n",
              "      <td>87.0</td>\n",
              "    </tr>\n",
              "    <tr>\n",
              "      <th>2</th>\n",
              "      <td>2020</td>\n",
              "      <td>Statewide</td>\n",
              "      <td>All Diagnosis Groups</td>\n",
              "      <td>ED Visit</td>\n",
              "      <td>Total</td>\n",
              "      <td>All Encounters</td>\n",
              "      <td>Alcohol Related</td>\n",
              "      <td>363285</td>\n",
              "      <td>10023851</td>\n",
              "      <td>3.6</td>\n",
              "    </tr>\n",
              "    <tr>\n",
              "      <th>3</th>\n",
              "      <td>2020</td>\n",
              "      <td>Statewide</td>\n",
              "      <td>All Diagnosis Groups</td>\n",
              "      <td>ED Visit</td>\n",
              "      <td>Total</td>\n",
              "      <td>All Encounters</td>\n",
              "      <td>All Others</td>\n",
              "      <td>9660566</td>\n",
              "      <td>10023851</td>\n",
              "      <td>96.4</td>\n",
              "    </tr>\n",
              "    <tr>\n",
              "      <th>4</th>\n",
              "      <td>2020</td>\n",
              "      <td>Statewide</td>\n",
              "      <td>All Diagnosis Groups</td>\n",
              "      <td>ED Admission</td>\n",
              "      <td>Sex</td>\n",
              "      <td>Female</td>\n",
              "      <td>Alcohol Related</td>\n",
              "      <td>85793</td>\n",
              "      <td>892625</td>\n",
              "      <td>9.6</td>\n",
              "    </tr>\n",
              "  </tbody>\n",
              "</table>\n",
              "</div>\n",
              "    <div class=\"colab-df-buttons\">\n",
              "\n",
              "  <div class=\"colab-df-container\">\n",
              "    <button class=\"colab-df-convert\" onclick=\"convertToInteractive('df-3f5daa6a-f4cb-41a9-8804-3cc60ac1738b')\"\n",
              "            title=\"Convert this dataframe to an interactive table.\"\n",
              "            style=\"display:none;\">\n",
              "\n",
              "  <svg xmlns=\"http://www.w3.org/2000/svg\" height=\"24px\" viewBox=\"0 -960 960 960\">\n",
              "    <path d=\"M120-120v-720h720v720H120Zm60-500h600v-160H180v160Zm220 220h160v-160H400v160Zm0 220h160v-160H400v160ZM180-400h160v-160H180v160Zm440 0h160v-160H620v160ZM180-180h160v-160H180v160Zm440 0h160v-160H620v160Z\"/>\n",
              "  </svg>\n",
              "    </button>\n",
              "\n",
              "  <style>\n",
              "    .colab-df-container {\n",
              "      display:flex;\n",
              "      gap: 12px;\n",
              "    }\n",
              "\n",
              "    .colab-df-convert {\n",
              "      background-color: #E8F0FE;\n",
              "      border: none;\n",
              "      border-radius: 50%;\n",
              "      cursor: pointer;\n",
              "      display: none;\n",
              "      fill: #1967D2;\n",
              "      height: 32px;\n",
              "      padding: 0 0 0 0;\n",
              "      width: 32px;\n",
              "    }\n",
              "\n",
              "    .colab-df-convert:hover {\n",
              "      background-color: #E2EBFA;\n",
              "      box-shadow: 0px 1px 2px rgba(60, 64, 67, 0.3), 0px 1px 3px 1px rgba(60, 64, 67, 0.15);\n",
              "      fill: #174EA6;\n",
              "    }\n",
              "\n",
              "    .colab-df-buttons div {\n",
              "      margin-bottom: 4px;\n",
              "    }\n",
              "\n",
              "    [theme=dark] .colab-df-convert {\n",
              "      background-color: #3B4455;\n",
              "      fill: #D2E3FC;\n",
              "    }\n",
              "\n",
              "    [theme=dark] .colab-df-convert:hover {\n",
              "      background-color: #434B5C;\n",
              "      box-shadow: 0px 1px 3px 1px rgba(0, 0, 0, 0.15);\n",
              "      filter: drop-shadow(0px 1px 2px rgba(0, 0, 0, 0.3));\n",
              "      fill: #FFFFFF;\n",
              "    }\n",
              "  </style>\n",
              "\n",
              "    <script>\n",
              "      const buttonEl =\n",
              "        document.querySelector('#df-3f5daa6a-f4cb-41a9-8804-3cc60ac1738b button.colab-df-convert');\n",
              "      buttonEl.style.display =\n",
              "        google.colab.kernel.accessAllowed ? 'block' : 'none';\n",
              "\n",
              "      async function convertToInteractive(key) {\n",
              "        const element = document.querySelector('#df-3f5daa6a-f4cb-41a9-8804-3cc60ac1738b');\n",
              "        const dataTable =\n",
              "          await google.colab.kernel.invokeFunction('convertToInteractive',\n",
              "                                                    [key], {});\n",
              "        if (!dataTable) return;\n",
              "\n",
              "        const docLinkHtml = 'Like what you see? Visit the ' +\n",
              "          '<a target=\"_blank\" href=https://colab.research.google.com/notebooks/data_table.ipynb>data table notebook</a>'\n",
              "          + ' to learn more about interactive tables.';\n",
              "        element.innerHTML = '';\n",
              "        dataTable['output_type'] = 'display_data';\n",
              "        await google.colab.output.renderOutput(dataTable, element);\n",
              "        const docLink = document.createElement('div');\n",
              "        docLink.innerHTML = docLinkHtml;\n",
              "        element.appendChild(docLink);\n",
              "      }\n",
              "    </script>\n",
              "  </div>\n",
              "\n",
              "\n",
              "<div id=\"df-99cda8dd-7ddb-43e8-8e98-9b25001d06d8\">\n",
              "  <button class=\"colab-df-quickchart\" onclick=\"quickchart('df-99cda8dd-7ddb-43e8-8e98-9b25001d06d8')\"\n",
              "            title=\"Suggest charts\"\n",
              "            style=\"display:none;\">\n",
              "\n",
              "<svg xmlns=\"http://www.w3.org/2000/svg\" height=\"24px\"viewBox=\"0 0 24 24\"\n",
              "     width=\"24px\">\n",
              "    <g>\n",
              "        <path d=\"M19 3H5c-1.1 0-2 .9-2 2v14c0 1.1.9 2 2 2h14c1.1 0 2-.9 2-2V5c0-1.1-.9-2-2-2zM9 17H7v-7h2v7zm4 0h-2V7h2v10zm4 0h-2v-4h2v4z\"/>\n",
              "    </g>\n",
              "</svg>\n",
              "  </button>\n",
              "\n",
              "<style>\n",
              "  .colab-df-quickchart {\n",
              "      --bg-color: #E8F0FE;\n",
              "      --fill-color: #1967D2;\n",
              "      --hover-bg-color: #E2EBFA;\n",
              "      --hover-fill-color: #174EA6;\n",
              "      --disabled-fill-color: #AAA;\n",
              "      --disabled-bg-color: #DDD;\n",
              "  }\n",
              "\n",
              "  [theme=dark] .colab-df-quickchart {\n",
              "      --bg-color: #3B4455;\n",
              "      --fill-color: #D2E3FC;\n",
              "      --hover-bg-color: #434B5C;\n",
              "      --hover-fill-color: #FFFFFF;\n",
              "      --disabled-bg-color: #3B4455;\n",
              "      --disabled-fill-color: #666;\n",
              "  }\n",
              "\n",
              "  .colab-df-quickchart {\n",
              "    background-color: var(--bg-color);\n",
              "    border: none;\n",
              "    border-radius: 50%;\n",
              "    cursor: pointer;\n",
              "    display: none;\n",
              "    fill: var(--fill-color);\n",
              "    height: 32px;\n",
              "    padding: 0;\n",
              "    width: 32px;\n",
              "  }\n",
              "\n",
              "  .colab-df-quickchart:hover {\n",
              "    background-color: var(--hover-bg-color);\n",
              "    box-shadow: 0 1px 2px rgba(60, 64, 67, 0.3), 0 1px 3px 1px rgba(60, 64, 67, 0.15);\n",
              "    fill: var(--button-hover-fill-color);\n",
              "  }\n",
              "\n",
              "  .colab-df-quickchart-complete:disabled,\n",
              "  .colab-df-quickchart-complete:disabled:hover {\n",
              "    background-color: var(--disabled-bg-color);\n",
              "    fill: var(--disabled-fill-color);\n",
              "    box-shadow: none;\n",
              "  }\n",
              "\n",
              "  .colab-df-spinner {\n",
              "    border: 2px solid var(--fill-color);\n",
              "    border-color: transparent;\n",
              "    border-bottom-color: var(--fill-color);\n",
              "    animation:\n",
              "      spin 1s steps(1) infinite;\n",
              "  }\n",
              "\n",
              "  @keyframes spin {\n",
              "    0% {\n",
              "      border-color: transparent;\n",
              "      border-bottom-color: var(--fill-color);\n",
              "      border-left-color: var(--fill-color);\n",
              "    }\n",
              "    20% {\n",
              "      border-color: transparent;\n",
              "      border-left-color: var(--fill-color);\n",
              "      border-top-color: var(--fill-color);\n",
              "    }\n",
              "    30% {\n",
              "      border-color: transparent;\n",
              "      border-left-color: var(--fill-color);\n",
              "      border-top-color: var(--fill-color);\n",
              "      border-right-color: var(--fill-color);\n",
              "    }\n",
              "    40% {\n",
              "      border-color: transparent;\n",
              "      border-right-color: var(--fill-color);\n",
              "      border-top-color: var(--fill-color);\n",
              "    }\n",
              "    60% {\n",
              "      border-color: transparent;\n",
              "      border-right-color: var(--fill-color);\n",
              "    }\n",
              "    80% {\n",
              "      border-color: transparent;\n",
              "      border-right-color: var(--fill-color);\n",
              "      border-bottom-color: var(--fill-color);\n",
              "    }\n",
              "    90% {\n",
              "      border-color: transparent;\n",
              "      border-bottom-color: var(--fill-color);\n",
              "    }\n",
              "  }\n",
              "</style>\n",
              "\n",
              "  <script>\n",
              "    async function quickchart(key) {\n",
              "      const quickchartButtonEl =\n",
              "        document.querySelector('#' + key + ' button');\n",
              "      quickchartButtonEl.disabled = true;  // To prevent multiple clicks.\n",
              "      quickchartButtonEl.classList.add('colab-df-spinner');\n",
              "      try {\n",
              "        const charts = await google.colab.kernel.invokeFunction(\n",
              "            'suggestCharts', [key], {});\n",
              "      } catch (error) {\n",
              "        console.error('Error during call to suggestCharts:', error);\n",
              "      }\n",
              "      quickchartButtonEl.classList.remove('colab-df-spinner');\n",
              "      quickchartButtonEl.classList.add('colab-df-quickchart-complete');\n",
              "    }\n",
              "    (() => {\n",
              "      let quickchartButtonEl =\n",
              "        document.querySelector('#df-99cda8dd-7ddb-43e8-8e98-9b25001d06d8 button');\n",
              "      quickchartButtonEl.style.display =\n",
              "        google.colab.kernel.accessAllowed ? 'block' : 'none';\n",
              "    })();\n",
              "  </script>\n",
              "</div>\n",
              "\n",
              "    </div>\n",
              "  </div>\n"
            ],
            "application/vnd.google.colaboratory.intrinsic+json": {
              "type": "dataframe",
              "variable_name": "df",
              "summary": "{\n  \"name\": \"df\",\n  \"rows\": 360,\n  \"fields\": [\n    {\n      \"column\": \"Year\",\n      \"properties\": {\n        \"dtype\": \"number\",\n        \"std\": 0,\n        \"min\": 2020,\n        \"max\": 2021,\n        \"num_unique_values\": 2,\n        \"samples\": [\n          2021,\n          2020\n        ],\n        \"semantic_type\": \"\",\n        \"description\": \"\"\n      }\n    },\n    {\n      \"column\": \"Geography\",\n      \"properties\": {\n        \"dtype\": \"category\",\n        \"num_unique_values\": 1,\n        \"samples\": [\n          \"Statewide\"\n        ],\n        \"semantic_type\": \"\",\n        \"description\": \"\"\n      }\n    },\n    {\n      \"column\": \"Category\",\n      \"properties\": {\n        \"dtype\": \"category\",\n        \"num_unique_values\": 8,\n        \"samples\": [\n          \"Alcohol Only\"\n        ],\n        \"semantic_type\": \"\",\n        \"description\": \"\"\n      }\n    },\n    {\n      \"column\": \"VisitType\",\n      \"properties\": {\n        \"dtype\": \"category\",\n        \"num_unique_values\": 2,\n        \"samples\": [\n          \"ED Visit\"\n        ],\n        \"semantic_type\": \"\",\n        \"description\": \"\"\n      }\n    },\n    {\n      \"column\": \"Dem_Category\",\n      \"properties\": {\n        \"dtype\": \"category\",\n        \"num_unique_values\": 5,\n        \"samples\": [\n          \"Sex\"\n        ],\n        \"semantic_type\": \"\",\n        \"description\": \"\"\n      }\n    },\n    {\n      \"column\": \"Dem_Cat_desc\",\n      \"properties\": {\n        \"dtype\": \"category\",\n        \"num_unique_values\": 19,\n        \"samples\": [\n          \"All Encounters\"\n        ],\n        \"semantic_type\": \"\",\n        \"description\": \"\"\n      }\n    },\n    {\n      \"column\": \"Dxgroup\",\n      \"properties\": {\n        \"dtype\": \"category\",\n        \"num_unique_values\": 5,\n        \"samples\": [\n          \"All Others\"\n        ],\n        \"semantic_type\": \"\",\n        \"description\": \"\"\n      }\n    },\n    {\n      \"column\": \"Count\",\n      \"properties\": {\n        \"dtype\": \"number\",\n        \"std\": 1125195,\n        \"min\": 15,\n        \"max\": 10525697,\n        \"num_unique_values\": 359,\n        \"samples\": [\n          23864\n        ],\n        \"semantic_type\": \"\",\n        \"description\": \"\"\n      }\n    },\n    {\n      \"column\": \"Total\",\n      \"properties\": {\n        \"dtype\": \"number\",\n        \"std\": 1573143,\n        \"min\": 1247,\n        \"max\": 10907850,\n        \"num_unique_values\": 144,\n        \"samples\": [\n          49594\n        ],\n        \"semantic_type\": \"\",\n        \"description\": \"\"\n      }\n    },\n    {\n      \"column\": \"Percent\",\n      \"properties\": {\n        \"dtype\": \"number\",\n        \"std\": 34.00301353800481,\n        \"min\": 0.4,\n        \"max\": 99.6,\n        \"num_unique_values\": 271,\n        \"samples\": [\n          11.9\n        ],\n        \"semantic_type\": \"\",\n        \"description\": \"\"\n      }\n    }\n  ]\n}"
            }
          },
          "metadata": {},
          "execution_count": 51
        }
      ]
    },
    {
      "cell_type": "code",
      "source": [
        "conn = sqlite3.connect('healthcare.db')\n",
        "df.to_sql('alcohol_er_data', conn, if_exists='replace', index=False)"
      ],
      "metadata": {
        "colab": {
          "base_uri": "https://localhost:8080/"
        },
        "id": "IjnKZ0Mp1iMn",
        "outputId": "f369cb9a-8628-4889-ec3d-c55247a10529"
      },
      "execution_count": 53,
      "outputs": [
        {
          "output_type": "execute_result",
          "data": {
            "text/plain": [
              "360"
            ]
          },
          "metadata": {},
          "execution_count": 53
        }
      ]
    },
    {
      "cell_type": "code",
      "source": [
        "query = \"SELECT * FROM alcohol_er_data LIMIT 5\"\n",
        "result = pd.read_sql(query, conn)\n",
        "print(result)"
      ],
      "metadata": {
        "colab": {
          "base_uri": "https://localhost:8080/"
        },
        "id": "OBbsHsav2WNi",
        "outputId": "e9949f4b-8ac0-4b67-f605-b0db204c88b4"
      },
      "execution_count": 54,
      "outputs": [
        {
          "output_type": "stream",
          "name": "stdout",
          "text": [
            "   Year  Geography              Category     VisitType Dem_Category  \\\n",
            "0  2020  Statewide  All Diagnosis Groups  ED Admission        Total   \n",
            "1  2020  Statewide  All Diagnosis Groups  ED Admission        Total   \n",
            "2  2020  Statewide  All Diagnosis Groups      ED Visit        Total   \n",
            "3  2020  Statewide  All Diagnosis Groups      ED Visit        Total   \n",
            "4  2020  Statewide  All Diagnosis Groups  ED Admission          Sex   \n",
            "\n",
            "     Dem_Cat_desc          Dxgroup    Count     Total  Percent  \n",
            "0  All Encounters  Alcohol Related   240180   1851863     13.0  \n",
            "1  All Encounters       All Others  1611683   1851863     87.0  \n",
            "2  All Encounters  Alcohol Related   363285  10023851      3.6  \n",
            "3  All Encounters       All Others  9660566  10023851     96.4  \n",
            "4          Female  Alcohol Related    85793    892625      9.6  \n"
          ]
        }
      ]
    },
    {
      "cell_type": "code",
      "source": [
        "print(df.columns)"
      ],
      "metadata": {
        "colab": {
          "base_uri": "https://localhost:8080/"
        },
        "id": "RoUH6blB4Qw-",
        "outputId": "381a6f3f-3b3a-4e4b-b9a6-d766e6846c27"
      },
      "execution_count": 63,
      "outputs": [
        {
          "output_type": "stream",
          "name": "stdout",
          "text": [
            "Index(['Year', 'Geography', 'Category', 'VisitType', 'Dem_Category',\n",
            "       'Dem_Cat_desc', 'Dxgroup', 'Count', 'Total', 'Percent'],\n",
            "      dtype='object')\n"
          ]
        }
      ]
    },
    {
      "cell_type": "code",
      "source": [
        "query = \"SELECT * FROM alcohol_er_data WHERE Dem_Category = 'Age' AND Dem_Cat_desc = '19 to 39'\"\n",
        "result = pd.read_sql(query, conn)\n",
        "print(result)"
      ],
      "metadata": {
        "colab": {
          "base_uri": "https://localhost:8080/"
        },
        "id": "qKqy5bMa4nMJ",
        "outputId": "fb06744c-f8ab-4c5e-ba2c-a672002bc047"
      },
      "execution_count": 66,
      "outputs": [
        {
          "output_type": "stream",
          "name": "stdout",
          "text": [
            "    Year  Geography              Category     VisitType Dem_Category  \\\n",
            "0   2020  Statewide  All Diagnosis Groups  ED Admission          Age   \n",
            "1   2020  Statewide  All Diagnosis Groups  ED Admission          Age   \n",
            "2   2020  Statewide  All Diagnosis Groups      ED Visit          Age   \n",
            "3   2020  Statewide  All Diagnosis Groups      ED Visit          Age   \n",
            "4   2020  Statewide          Alcohol Only  ED Admission          Age   \n",
            "5   2020  Statewide          Alcohol Only  ED Admission          Age   \n",
            "6   2020  Statewide          Alcohol Only  ED Admission          Age   \n",
            "7   2020  Statewide          Alcohol Only      ED Visit          Age   \n",
            "8   2020  Statewide          Alcohol Only      ED Visit          Age   \n",
            "9   2020  Statewide          Alcohol Only      ED Visit          Age   \n",
            "10  2021  Statewide                   Age  ED Admission          Age   \n",
            "11  2021  Statewide                   Age  ED Admission          Age   \n",
            "12  2021  Statewide                   Age      ED Visit          Age   \n",
            "13  2021  Statewide                   Age      ED Visit          Age   \n",
            "14  2021  Statewide      Alcohol Category  ED Admission          Age   \n",
            "15  2021  Statewide      Alcohol Category  ED Admission          Age   \n",
            "16  2021  Statewide      Alcohol Category  ED Admission          Age   \n",
            "17  2021  Statewide      Alcohol Category      ED Visit          Age   \n",
            "18  2021  Statewide      Alcohol Category      ED Visit          Age   \n",
            "19  2021  Statewide      Alcohol Category      ED Visit          Age   \n",
            "\n",
            "   Dem_Cat_desc                                      Dxgroup    Count  \\\n",
            "0      19 to 39                              Alcohol Related    43889   \n",
            "1      19 to 39                                   All Others   240476   \n",
            "2      19 to 39                              Alcohol Related   120218   \n",
            "3      19 to 39                                   All Others  3308917   \n",
            "4      19 to 39                        Acute Alcohol Episode    12251   \n",
            "5      19 to 39                      Chronic Alcohol Episode    25896   \n",
            "6      19 to 39  Co-occuring Acute & Chronic Alcohol Episode     5742   \n",
            "7      19 to 39                        Acute Alcohol Episode    60788   \n",
            "8      19 to 39                      Chronic Alcohol Episode    54722   \n",
            "9      19 to 39  Co-occuring Acute & Chronic Alcohol Episode     4708   \n",
            "10     19 to 39                              Alcohol Related    46417   \n",
            "11     19 to 39                                   All Others   253602   \n",
            "12     19 to 39                              Alcohol Related   130265   \n",
            "13     19 to 39                                   All Others  3517701   \n",
            "14     19 to 39                        Acute Alcohol Episode    12280   \n",
            "15     19 to 39                      Chronic Alcohol Episode    28285   \n",
            "16     19 to 39  Co-occuring Acute & Chronic Alcohol Episode     5852   \n",
            "17     19 to 39                        Acute Alcohol Episode    63729   \n",
            "18     19 to 39                      Chronic Alcohol Episode    61971   \n",
            "19     19 to 39  Co-occuring Acute & Chronic Alcohol Episode     4565   \n",
            "\n",
            "      Total  Percent  \n",
            "0    284365     15.4  \n",
            "1    284365     84.6  \n",
            "2   3429135      3.5  \n",
            "3   3429135     96.5  \n",
            "4     43889     27.9  \n",
            "5     43889     59.0  \n",
            "6     43889     13.1  \n",
            "7    120218     50.6  \n",
            "8    120218     45.5  \n",
            "9    120218      3.9  \n",
            "10   300019     15.5  \n",
            "11   300019     84.5  \n",
            "12  3647966      3.6  \n",
            "13  3647966     96.4  \n",
            "14    46417     26.5  \n",
            "15    46417     60.9  \n",
            "16    46417     12.6  \n",
            "17   130265     48.9  \n",
            "18   130265     47.6  \n",
            "19   130265      3.5  \n"
          ]
        }
      ]
    },
    {
      "cell_type": "code",
      "source": [
        "query = \"SELECT COUNT(*) FROM alcohol_er_data WHERE Dem_Cat_desc = 'Female'\"\n",
        "result = pd.read_sql(query, conn)\n",
        "print(result)"
      ],
      "metadata": {
        "colab": {
          "base_uri": "https://localhost:8080/"
        },
        "id": "J0gvlraj5Gl8",
        "outputId": "6b462eba-32fa-4004-c98b-3b6fe9bf91e6"
      },
      "execution_count": 69,
      "outputs": [
        {
          "output_type": "stream",
          "name": "stdout",
          "text": [
            "   COUNT(*)\n",
            "0        20\n"
          ]
        }
      ]
    },
    {
      "cell_type": "code",
      "source": [
        "query = \"SELECT Dem_Cat_desc, COUNT(*) AS er_count FROM alcohol_er_data GROUP BY Dem_Category = 'Age' AND Dem_Cat_desc = '19 to 39'\"\n",
        "result = pd.read_sql(query, conn)\n",
        "print(result)"
      ],
      "metadata": {
        "colab": {
          "base_uri": "https://localhost:8080/"
        },
        "id": "yApG79us5f94",
        "outputId": "2cc35127-6628-4022-8492-11c0a5d60f33"
      },
      "execution_count": 75,
      "outputs": [
        {
          "output_type": "stream",
          "name": "stdout",
          "text": [
            "     Dem_Cat_desc  er_count\n",
            "0  All Encounters       340\n",
            "1        19 to 39        20\n"
          ]
        }
      ]
    },
    {
      "cell_type": "code",
      "source": [
        "query = \"SELECT * FROM alcohol_er_data ORDER BY Count DESC LIMIT 5\"\n",
        "result = pd.read_sql(query, conn)\n",
        "print(result)"
      ],
      "metadata": {
        "colab": {
          "base_uri": "https://localhost:8080/"
        },
        "id": "Tiq7IK1w6VpE",
        "outputId": "5c3f693a-db6e-46c9-f23a-26cba4b683eb"
      },
      "execution_count": 77,
      "outputs": [
        {
          "output_type": "stream",
          "name": "stdout",
          "text": [
            "   Year  Geography              Category VisitType Dem_Category  \\\n",
            "0  2021  Statewide           DX Category  ED Visit        Total   \n",
            "1  2020  Statewide  All Diagnosis Groups  ED Visit        Total   \n",
            "2  2021  Statewide                   Sex  ED Visit          Sex   \n",
            "3  2020  Statewide  All Diagnosis Groups  ED Visit          Sex   \n",
            "4  2021  Statewide                   Sex  ED Visit          Sex   \n",
            "\n",
            "     Dem_Cat_desc     Dxgroup     Count     Total  Percent  \n",
            "0  All Encounters  All Others  10525697  10907850     96.5  \n",
            "1  All Encounters  All Others   9660566  10023851     96.4  \n",
            "2          Female  All Others   5699932   5842759     97.6  \n",
            "3          Female  All Others   5177319   5306443     97.6  \n",
            "4            Male  All Others   4824520   5063762     95.3  \n"
          ]
        }
      ]
    },
    {
      "cell_type": "code",
      "source": [
        "from google.colab import files\n",
        "files.download('healthcare.db')"
      ],
      "metadata": {
        "colab": {
          "base_uri": "https://localhost:8080/",
          "height": 17
        },
        "id": "HBC_HenR6mWY",
        "outputId": "273c29bd-2e03-4c02-ea0a-1bbd56c80631"
      },
      "execution_count": 78,
      "outputs": [
        {
          "output_type": "display_data",
          "data": {
            "text/plain": [
              "<IPython.core.display.Javascript object>"
            ],
            "application/javascript": [
              "\n",
              "    async function download(id, filename, size) {\n",
              "      if (!google.colab.kernel.accessAllowed) {\n",
              "        return;\n",
              "      }\n",
              "      const div = document.createElement('div');\n",
              "      const label = document.createElement('label');\n",
              "      label.textContent = `Downloading \"${filename}\": `;\n",
              "      div.appendChild(label);\n",
              "      const progress = document.createElement('progress');\n",
              "      progress.max = size;\n",
              "      div.appendChild(progress);\n",
              "      document.body.appendChild(div);\n",
              "\n",
              "      const buffers = [];\n",
              "      let downloaded = 0;\n",
              "\n",
              "      const channel = await google.colab.kernel.comms.open(id);\n",
              "      // Send a message to notify the kernel that we're ready.\n",
              "      channel.send({})\n",
              "\n",
              "      for await (const message of channel.messages) {\n",
              "        // Send a message to notify the kernel that we're ready.\n",
              "        channel.send({})\n",
              "        if (message.buffers) {\n",
              "          for (const buffer of message.buffers) {\n",
              "            buffers.push(buffer);\n",
              "            downloaded += buffer.byteLength;\n",
              "            progress.value = downloaded;\n",
              "          }\n",
              "        }\n",
              "      }\n",
              "      const blob = new Blob(buffers, {type: 'application/binary'});\n",
              "      const a = document.createElement('a');\n",
              "      a.href = window.URL.createObjectURL(blob);\n",
              "      a.download = filename;\n",
              "      div.appendChild(a);\n",
              "      a.click();\n",
              "      div.remove();\n",
              "    }\n",
              "  "
            ]
          },
          "metadata": {}
        },
        {
          "output_type": "display_data",
          "data": {
            "text/plain": [
              "<IPython.core.display.Javascript object>"
            ],
            "application/javascript": [
              "download(\"download_f6591607-4ef3-441d-a170-ef1599684383\", \"healthcare.db\", 45056)"
            ]
          },
          "metadata": {}
        }
      ]
    }
  ]
}